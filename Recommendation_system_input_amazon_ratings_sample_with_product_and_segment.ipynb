{
 "cells": [
  {
   "cell_type": "code",
   "execution_count": 0,
   "metadata": {
    "application/vnd.databricks.v1+cell": {
     "cellMetadata": {},
     "inputWidgets": {},
     "nuid": "36a48b05-26b7-44c0-b8e7-c0f4083a4d4b",
     "showTitle": false,
     "tableResultSettingsMap": {},
     "title": ""
    }
   },
   "outputs": [],
   "source": [
    "#Project Summary: Building a Product Recommendation System Using K-means Clustering in PySpark\n",
    "#Objective:\n",
    "#The goal of this project is to build a recommendation system using K-means clustering, rather than traditional collaborative filtering methods like ALS. We focus on clustering users or products based on their interaction data (such as ratings) and then use these clusters to recommend products to users. The dataset includes information about users, products, ratings, and product-related details like product_name and segment.\n",
    "\n",
    "#Dataset:\n",
    "#The dataset contains 2000 rows with the following columns:\n",
    "user_id: The unique identifier for each user.\n",
    "product_id: The unique identifier for each product.\n",
    "rating: The rating given by the user for a particular product (on a scale from 1 to 5).\n",
    "product_name: The name of the product.\n",
    "segment: The category or segment to which the product belongs (e.g., Electronics, Clothing, etc.).\n",
    "The dataset is used to understand user-product interactions and generate product recommendations.\n",
    "\n",
    "\n",
    "#Steps Involved:\n",
    "#Data Preprocessing:\n",
    "#1.Load the dataset using PySpark’s read.csv().\n",
    "#2.Create a feature vector using user_id, product_id, and rating columns, which will be used for clustering. The product_name and segment columns are retained for displaying the final recommendations.\n",
    "\n",
    "#Clustering Using K-means:\n",
    "#1.Apply K-means clustering to group users or products based on their interactions. The number of clusters is set to 5 in this example.\n",
    "#2.K-means uses the feature vector (user_id, product_id, and rating) to create distinct clusters of users/products with similar behavior or preferences.\n",
    "\n",
    "#Evaluating Clustering:\n",
    "#1.Evaluate the quality of the clustering using the Silhouette Score. A higher Silhouette score indicates well-separated and well-defined clusters.\n",
    "\n",
    "#Generating Recommendations:\n",
    "#1.After performing K-means clustering, we aggregate the ratings for each product within each cluster and rank products by their average ratings.\n",
    "#2.Top products (ranked by the highest average ratings) from each cluster are recommended to users.\n",
    "\n",
    "#Personalized Recommendations for Users:\n",
    "#1.For a given user (e.g., user_id = 123), the cluster they belong to is identified. The top products from that user’s cluster are then recommended, displaying both product_name and segment.\n",
    "\n",
    "\n",
    "#Key Features of the Model:\n",
    "1.Clustering: K-means clustering groups users or products with similar interaction patterns.\n",
    "2.Top Recommendations: Products are recommended based on their popularity within a user’s cluster, allowing for group-based recommendations.\n",
    "3.Personalized Recommendations: Recommendations are tailored to each user by leveraging their respective cluster.\n",
    "4.Product Information: Recommendations are enriched with additional product details like product_name and segment, making them more informative."
   ]
  },
  {
   "cell_type": "code",
   "execution_count": 0,
   "metadata": {
    "application/vnd.databricks.v1+cell": {
     "cellMetadata": {
      "byteLimit": 2048000,
      "rowLimit": 10000
     },
     "inputWidgets": {},
     "nuid": "775b1ca2-33f3-45b0-b117-136fabc615d4",
     "showTitle": false,
     "tableResultSettingsMap": {},
     "title": ""
    }
   },
   "outputs": [
    {
     "output_type": "stream",
     "name": "stdout",
     "output_type": "stream",
     "text": [
      "+-------+----------+------+------------+-----------+\n|user_id|product_id|rating|product_name|    segment|\n+-------+----------+------+------------+-----------+\n|     52|        76|     2|  Product_76|Electronics|\n|     93|        46|     2|  Product_46|Electronics|\n|     15|        32|     5|  Product_32|   Clothing|\n|     72|        79|     4|  Product_79|      Books|\n|     61|        80|     2|  Product_80|       Toys|\n+-------+----------+------+------------+-----------+\nonly showing top 5 rows\n\nroot\n |-- user_id: double (nullable = true)\n |-- product_id: double (nullable = true)\n |-- rating: double (nullable = true)\n |-- product_name: string (nullable = true)\n |-- segment: string (nullable = true)\n\n"
     ]
    }
   ],
   "source": [
    "from pyspark.sql import SparkSession\n",
    "from pyspark.sql.functions import col\n",
    "from pyspark.ml.feature import VectorAssembler\n",
    "from pyspark.sql.types import DoubleType, StringType\n",
    "from pyspark.sql import SparkSession\n",
    "from pyspark.sql.functions import col, lit\n",
    "from pyspark.ml.feature import VectorAssembler, StandardScaler\n",
    "from pyspark.ml.clustering import KMeans\n",
    "from pyspark.ml.evaluation import ClusteringEvaluator\n",
    "from pyspark.sql.functions import avg, col\n",
    "\n",
    "# Query the data using SQL\n",
    "df = spark.sql(\"SELECT * FROM amazon_ratings\")\n",
    "\n",
    "#df.printSchema()\n",
    "df.show(5)\n",
    "\n",
    "# Step 3: Data Preprocessing\n",
    "# Cast columns to appropriate data types\n",
    "df = df.withColumn(\"user_id\", col(\"user_id\").cast(DoubleType())) \\\n",
    "       .withColumn(\"product_id\", col(\"product_id\").cast(DoubleType())) \\\n",
    "       .withColumn(\"rating\", col(\"rating\").cast(DoubleType())) \\\n",
    "       .withColumn(\"product_name\", col(\"product_name\").cast(StringType())) \\\n",
    "       .withColumn(\"segment\", col(\"segment\").cast(StringType()))\n",
    "\n",
    "# Check updated schema\n",
    "df.printSchema()"
   ]
  },
  {
   "cell_type": "code",
   "execution_count": 0,
   "metadata": {
    "application/vnd.databricks.v1+cell": {
     "cellMetadata": {
      "byteLimit": 2048000,
      "rowLimit": 10000
     },
     "inputWidgets": {},
     "nuid": "0ee8028c-520e-4f5b-b78d-3b508d99e745",
     "showTitle": false,
     "tableResultSettingsMap": {},
     "title": ""
    }
   },
   "outputs": [
    {
     "output_type": "stream",
     "name": "stdout",
     "output_type": "stream",
     "text": [
      "+-------+----------+------+------------+-----------+----------------+\n|user_id|product_id|rating|product_name|    segment|        features|\n+-------+----------+------+------------+-----------+----------------+\n|   52.0|      76.0|   2.0|  Product_76|Electronics| [52.0,76.0,2.0]|\n|   93.0|      46.0|   2.0|  Product_46|Electronics| [93.0,46.0,2.0]|\n|   15.0|      32.0|   5.0|  Product_32|   Clothing| [15.0,32.0,5.0]|\n|   72.0|      79.0|   4.0|  Product_79|      Books| [72.0,79.0,4.0]|\n|   61.0|      80.0|   2.0|  Product_80|       Toys| [61.0,80.0,2.0]|\n|   21.0|      54.0|   3.0|  Product_54|      Books| [21.0,54.0,3.0]|\n|   83.0|      86.0|   3.0|  Product_86|Electronics| [83.0,86.0,3.0]|\n|   87.0|      92.0|   5.0|  Product_92|   Clothing| [87.0,92.0,5.0]|\n|   75.0|      20.0|   5.0|  Product_20|       Toys| [75.0,20.0,5.0]|\n|   75.0|      33.0|   1.0|  Product_33|       Home| [75.0,33.0,1.0]|\n|   88.0|      74.0|   1.0|  Product_74|      Books| [88.0,74.0,1.0]|\n|  100.0|      40.0|   1.0|  Product_40|       Toys|[100.0,40.0,1.0]|\n|   24.0|      32.0|   5.0|  Product_32|   Clothing| [24.0,32.0,5.0]|\n|    3.0|      97.0|   5.0|  Product_97|   Clothing|  [3.0,97.0,5.0]|\n|   22.0|       2.0|   5.0|   Product_2|   Clothing|  [22.0,2.0,5.0]|\n|   53.0|      97.0|   3.0|  Product_97|   Clothing| [53.0,97.0,3.0]|\n|    2.0|      33.0|   5.0|  Product_33|       Home|  [2.0,33.0,5.0]|\n|   88.0|      77.0|   3.0|  Product_77|   Clothing| [88.0,77.0,3.0]|\n|   30.0|      30.0|   1.0|  Product_30|       Toys| [30.0,30.0,1.0]|\n|   38.0|      33.0|   1.0|  Product_33|       Home| [38.0,33.0,1.0]|\n+-------+----------+------+------------+-----------+----------------+\nonly showing top 20 rows\n\n"
     ]
    }
   ],
   "source": [
    "\n",
    "# Step 4: Feature Engineering\n",
    "# Use VectorAssembler to create feature vectors for clustering\n",
    "assembler = VectorAssembler(inputCols=[\"user_id\", \"product_id\", \"rating\"], outputCol=\"features\")\n",
    "df_features = assembler.transform(df)\n",
    "df_features.show()"
   ]
  },
  {
   "cell_type": "code",
   "execution_count": 0,
   "metadata": {
    "application/vnd.databricks.v1+cell": {
     "cellMetadata": {
      "byteLimit": 2048000,
      "rowLimit": 10000
     },
     "inputWidgets": {},
     "nuid": "e938fcdf-4428-45e8-b7b3-0c7ed8093578",
     "showTitle": false,
     "tableResultSettingsMap": {},
     "title": ""
    }
   },
   "outputs": [],
   "source": [
    "# Step 5: Train K-means Model\n",
    "# Define K-means clustering model with a specified number of clusters (e.g., k=5)\n",
    "kmeans = KMeans(featuresCol=\"features\", predictionCol=\"prediction\", k=5, seed=42)\n",
    "model = kmeans.fit(df_features)"
   ]
  },
  {
   "cell_type": "code",
   "execution_count": 0,
   "metadata": {
    "application/vnd.databricks.v1+cell": {
     "cellMetadata": {
      "byteLimit": 2048000,
      "rowLimit": 10000
     },
     "inputWidgets": {},
     "nuid": "9101bba0-9bb2-44a8-a925-7cf8c189c433",
     "showTitle": false,
     "tableResultSettingsMap": {},
     "title": ""
    }
   },
   "outputs": [
    {
     "output_type": "stream",
     "name": "stdout",
     "output_type": "stream",
     "text": [
      "Silhouette Score: 0.5628003893884516\n"
     ]
    }
   ],
   "source": [
    "# Step 6: Evaluate Clustering\n",
    "# Make predictions\n",
    "predictions = model.transform(df_features)\n",
    "\n",
    "# Evaluate clustering using Silhouette score\n",
    "evaluator = ClusteringEvaluator(featuresCol=\"features\", predictionCol=\"prediction\", metricName=\"silhouette\")\n",
    "silhouette_score = evaluator.evaluate(predictions)\n",
    "print(f\"Silhouette Score: {silhouette_score}\")"
   ]
  },
  {
   "cell_type": "markdown",
   "metadata": {
    "application/vnd.databricks.v1+cell": {
     "cellMetadata": {},
     "inputWidgets": {},
     "nuid": "9074c7c9-a857-40ec-97ed-3a58e7841c0f",
     "showTitle": false,
     "tableResultSettingsMap": {},
     "title": ""
    }
   },
   "source": [
    "The Silhouette Score is a metric used to evaluate the quality of clustering. It measures how similar an object is to its own cluster (cohesion) compared to other clusters (separation). The score ranges between -1 and 1, with the following interpretations:\n",
    "\n",
    "+1: The object is well matched to its own cluster and poorly matched to neighboring clusters.\n",
    "0: The object is on or very close to the decision boundary between two clusters.\n",
    "-1: The object might have been misclassified and placed in the wrong cluster"
   ]
  },
  {
   "cell_type": "code",
   "execution_count": 0,
   "metadata": {
    "application/vnd.databricks.v1+cell": {
     "cellMetadata": {
      "byteLimit": 2048000,
      "rowLimit": 10000
     },
     "inputWidgets": {},
     "nuid": "0fe42d48-c827-4025-939c-c361dab0ebb2",
     "showTitle": false,
     "tableResultSettingsMap": {},
     "title": ""
    }
   },
   "outputs": [
    {
     "output_type": "stream",
     "name": "stdout",
     "output_type": "stream",
     "text": [
      "User 52 belongs to cluster 1.\nTop 10 recommendations for user 52:\n+----------+------------------+\n|product_id|        avg_rating|\n+----------+------------------+\n|      64.0| 4.142857142857143|\n|      51.0|               4.0|\n|      79.0|               4.0|\n|      82.0|               3.8|\n|      63.0|3.6666666666666665|\n|      52.0|               3.6|\n|      94.0|               3.5|\n|      90.0|               3.5|\n|      69.0|3.4545454545454546|\n|      83.0|3.3333333333333335|\n+----------+------------------+\nonly showing top 10 rows\n\n"
     ]
    }
   ],
   "source": [
    "\n",
    "# Step 7: Generate Recommendations for a Specific User\n",
    "# Specify the user ID for which to generate recommendations\n",
    "specific_user_id = 52\n",
    "  # Replace with a valid user_id from your dataset\n",
    "\n",
    "# Check if the user exists in the dataset\n",
    "user_exists = predictions.filter(col(\"user_id\") == specific_user_id).count()\n",
    "\n",
    "if user_exists == 0:\n",
    "    print(f\"User {specific_user_id} does not exist in the dataset.\")\n",
    "else:\n",
    "    # Identify the cluster to which the specific user belongs\n",
    "    user_cluster = predictions.filter(col(\"user_id\") == specific_user_id).select(\"prediction\").collect()[0][\"prediction\"]\n",
    "    print(f\"User {specific_user_id} belongs to cluster {user_cluster}.\")\n",
    "\n",
    "    # Find all users in the same cluster\n",
    "    users_in_cluster = predictions.filter(col(\"prediction\") == user_cluster)\n",
    "\n",
    "    # Collect all products rated by users in the same cluster\n",
    "    products_in_cluster = users_in_cluster.groupBy(\"product_id\").agg(avg(\"rating\").alias(\"avg_rating\"))\n",
    "\n",
    "    # Get the products already rated by the specific user\n",
    "    user_products = predictions.filter(col(\"user_id\") == specific_user_id).select(\"product_id\").rdd.flatMap(lambda x: x).collect()\n",
    "\n",
    "    # Filter out products already rated by the specific user\n",
    "    recommendations = products_in_cluster.filter(~col(\"product_id\").isin(user_products)) \\\n",
    "                                         .orderBy(col(\"avg_rating\").desc())\n",
    "\n",
    "    # Show top 10 product recommendations\n",
    "    print(f\"Top 10 recommendations for user {specific_user_id}:\")\n",
    "    recommendations.select(\"product_id\", \"avg_rating\").show(10)"
   ]
  },
  {
   "cell_type": "markdown",
   "metadata": {
    "application/vnd.databricks.v1+cell": {
     "cellMetadata": {},
     "inputWidgets": {},
     "nuid": "6d74b9ff-ce02-49a2-9528-e741af8af850",
     "showTitle": false,
     "tableResultSettingsMap": {},
     "title": ""
    }
   },
   "source": [
    "This step focuses on generating product recommendations for a specific user by leveraging cluster-based insights. First, the script checks if the specified user (specific_user_id) exists in the dataset.\n",
    " If the user is not found, a message is displayed, and the process stops. \n",
    " \n",
    " If the user exists, the script identifies the cluster (user_cluster) to which the user belongs based on the predictions made by the K-means model. Next, it retrieves all users in the same cluster and calculates the average ratings for products rated by these users. To ensure the recommendations are novel, the script identifies products that the specific user has already rated and excludes them from the list. The remaining products are then sorted by their average ratings in descending order, ensuring that the highest-rated products within the cluster are prioritized. Finally, the script displays the top 10 recommended products for the user, including their product IDs and average ratings. This approach personalizes recommendations by considering the preferences of similar users within the same cluster, while avoiding duplicate suggestions."
   ]
  },
  {
   "cell_type": "code",
   "execution_count": 0,
   "metadata": {
    "application/vnd.databricks.v1+cell": {
     "cellMetadata": {
      "byteLimit": 2048000,
      "rowLimit": 10000
     },
     "inputWidgets": {},
     "nuid": "0092e1a6-674c-4e4b-9512-967276a5871f",
     "showTitle": false,
     "tableResultSettingsMap": {},
     "title": ""
    }
   },
   "outputs": [
    {
     "output_type": "stream",
     "name": "stdout",
     "output_type": "stream",
     "text": [
      "Cluster Centers:\nCluster 0: [51.92307692 31.77948718  2.96410256]\nCluster 1: [77.20048309 76.41545894  2.99758454]\nCluster 2: [17.28571429 25.53506494  3.14805195]\nCluster 3: [85.04610951 23.85590778  2.99423631]\nCluster 4: [25.21336207 77.80172414  2.99353448]\n"
     ]
    }
   ],
   "source": [
    "# Step 8: Analyze Cluster Centers\n",
    "# Extract and display cluster centers\n",
    "centers = model.clusterCenters()    # The model.clusterCenters() function retrieves the coordinates of the centroids\n",
    "print(\"Cluster Centers:\")\n",
    "for idx, center in enumerate(centers):   # The for loop iterates through the list of cluster centers, and each center is displayed with its corresponding cluster index (Cluster 0, Cluster 1, etc.).\n",
    "    print(f\"Cluster {idx}: {center}\")"
   ]
  },
  {
   "cell_type": "markdown",
   "metadata": {
    "application/vnd.databricks.v1+cell": {
     "cellMetadata": {},
     "inputWidgets": {},
     "nuid": "55cec9dc-80e4-4396-92a0-9362fc88e3e9",
     "showTitle": false,
     "tableResultSettingsMap": {},
     "title": ""
    }
   },
   "source": [
    "Cluster Centers Breakdown\n",
    "Cluster 0: [51.92, 31.78, 2.96]\n",
    "\n",
    "Feature 1: 51.92\n",
    "Feature 2: 31.78\n",
    "Feature 3: 2.96\n",
    "This cluster has moderate values for Feature 1 and Feature 2 and an average rating of 2.96.\n",
    "Cluster 1: [77.20, 76.42, 2.99]\n",
    "\n",
    "Feature 1: 77.20\n",
    "Feature 2: 76.42\n",
    "Feature 3: 2.99\n",
    "This cluster has high values for both Feature 1 and Feature 2 and slightly higher ratings (2.99).\n",
    "Cluster 2: [17.29, 25.54, 3.15]\n",
    "\n",
    "Feature 1: 17.29\n",
    "Feature 2: 25.54\n",
    "Feature 3: 3.15\n",
    "This cluster has low values for Feature 1 and Feature 2 and relatively high ratings (3.15).\n",
    "Cluster 3: [85.05, 23.86, 2.99]\n",
    "\n",
    "Feature 1: 85.05\n",
    "Feature 2: 23.86\n",
    "Feature 3: 2.99\n",
    "This cluster has a very high value for Feature 1, lower values for Feature 2, and an average rating of 2.99.\n",
    "Cluster 4: [25.21, 77.80, 2.99]\n",
    "\n",
    "Feature 1: 25.21\n",
    "Feature 2: 77.80\n",
    "Feature 3: 2.99\n",
    "This cluster has a low value for Feature 1, a very high value for Feature 2, and an average rating of 2.99."
   ]
  },
  {
   "cell_type": "markdown",
   "metadata": {
    "application/vnd.databricks.v1+cell": {
     "cellMetadata": {},
     "inputWidgets": {},
     "nuid": "e93b8acd-87e7-41e8-9d35-3758f0255c58",
     "showTitle": false,
     "tableResultSettingsMap": {},
     "title": ""
    }
   },
   "source": [
    "#What This Shows:\n",
    "1. Each cluster center represents the average position of all points in that cluster in the feature space.\n",
    "2. Feature 1 and Feature 2 could represent user or product characteristics (e.g., age, purchase frequency, product category), while Feature 3 likely represents the average rating or user interaction score.\n",
    "3. Cluster 1, for example, consists of users or products with high values for both Feature 1 and Feature 2, and slightly higher average ratings (2.99).\n",
    "4. Cluster 2, on the other hand, represents users/products with lower values for Feature 1 and Feature 2 but higher ratings (3.15).\n",
    "\n",
    "#How This Information Is Useful:\n",
    "1. Cluster Profiles: It provides insight into the typical characteristics of each cluster. For example, Cluster 2 might represent users who are more selective or niche in their preferences, while Cluster 1 could represent more mainstream users.\n",
    "2. Business Applications: You can tailor recommendations based on the typical characteristics of a user's assigned cluster. If a user belongs to Cluster 1, you could recommend products similar to those liked by users in that cluster."
   ]
  },
  {
   "cell_type": "code",
   "execution_count": 0,
   "metadata": {
    "application/vnd.databricks.v1+cell": {
     "cellMetadata": {},
     "inputWidgets": {},
     "nuid": "95223e63-480a-4c0b-890e-54e4e1437dbf",
     "showTitle": false,
     "tableResultSettingsMap": {},
     "title": ""
    }
   },
   "outputs": [],
   "source": []
  },
  {
   "cell_type": "code",
   "execution_count": 0,
   "metadata": {
    "application/vnd.databricks.v1+cell": {
     "cellMetadata": {},
     "inputWidgets": {},
     "nuid": "70c80388-63ce-4b95-b2e0-e5ee78839fdb",
     "showTitle": false,
     "tableResultSettingsMap": {},
     "title": ""
    }
   },
   "outputs": [],
   "source": [
    "#Conclusion:\n",
    "#This project demonstrates how K-means clustering can be used as an alternative to traditional collaborative filtering techniques like ALS for generating product recommendations. By clustering users based on their interaction data and recommending products from their respective clusters, the system offers an effective and scalable recommendation approach. Although K-means clustering may not capture latent factors as effectively as ALS, it still provides a useful means of delivering personalized recommendations based on user-product interactions."
   ]
  },
  {
   "cell_type": "code",
   "execution_count": 0,
   "metadata": {
    "application/vnd.databricks.v1+cell": {
     "cellMetadata": {},
     "inputWidgets": {},
     "nuid": "2db00e6f-d583-4de6-a38b-01225d7e37a0",
     "showTitle": false,
     "tableResultSettingsMap": {},
     "title": ""
    }
   },
   "outputs": [],
   "source": []
  },
  {
   "cell_type": "code",
   "execution_count": 0,
   "metadata": {
    "application/vnd.databricks.v1+cell": {
     "cellMetadata": {},
     "inputWidgets": {},
     "nuid": "29259a3b-4398-4fba-83ed-9d065453cbc3",
     "showTitle": false,
     "tableResultSettingsMap": {},
     "title": ""
    }
   },
   "outputs": [],
   "source": []
  },
  {
   "cell_type": "code",
   "execution_count": 0,
   "metadata": {
    "application/vnd.databricks.v1+cell": {
     "cellMetadata": {},
     "inputWidgets": {},
     "nuid": "f100d2cd-9726-4c94-99c2-0af366beecae",
     "showTitle": false,
     "tableResultSettingsMap": {},
     "title": ""
    }
   },
   "outputs": [],
   "source": []
  },
  {
   "cell_type": "code",
   "execution_count": 0,
   "metadata": {
    "application/vnd.databricks.v1+cell": {
     "cellMetadata": {},
     "inputWidgets": {},
     "nuid": "71a0417b-073b-4f07-ac05-12aa1a26adcf",
     "showTitle": false,
     "tableResultSettingsMap": {},
     "title": ""
    }
   },
   "outputs": [],
   "source": []
  },
  {
   "cell_type": "code",
   "execution_count": 0,
   "metadata": {
    "application/vnd.databricks.v1+cell": {
     "cellMetadata": {},
     "inputWidgets": {},
     "nuid": "e565eae2-1075-4e9b-b537-a0503ecbdff2",
     "showTitle": false,
     "tableResultSettingsMap": {},
     "title": ""
    }
   },
   "outputs": [],
   "source": []
  },
  {
   "cell_type": "code",
   "execution_count": 0,
   "metadata": {
    "application/vnd.databricks.v1+cell": {
     "cellMetadata": {},
     "inputWidgets": {},
     "nuid": "d1b3f871-3567-4ad9-b57c-c2faf7206b69",
     "showTitle": false,
     "tableResultSettingsMap": {},
     "title": ""
    }
   },
   "outputs": [],
   "source": []
  }
 ],
 "metadata": {
  "application/vnd.databricks.v1+notebook": {
   "computePreferences": null,
   "dashboards": [],
   "environmentMetadata": {
    "base_environment": "",
    "client": "1"
   },
   "language": "python",
   "notebookMetadata": {
    "pythonIndentUnit": 4
   },
   "notebookName": "building a recommendation system",
   "widgets": {}
  }
 },
 "nbformat": 4,
 "nbformat_minor": 0
}
