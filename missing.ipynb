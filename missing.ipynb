{
 "cells": [
  {
   "cell_type": "code",
   "execution_count": 0,
   "metadata": {
    "application/vnd.databricks.v1+cell": {
     "cellMetadata": {
      "byteLimit": 2048000,
      "rowLimit": 10000
     },
     "inputWidgets": {},
     "nuid": "825a7ecf-2b3a-4210-b426-ae6554bf05d2",
     "showTitle": false,
     "tableResultSettingsMap": {},
     "title": ""
    }
   },
   "outputs": [],
   "source": [
    "import pyspark"
   ]
  },
  {
   "cell_type": "code",
   "execution_count": 0,
   "metadata": {
    "application/vnd.databricks.v1+cell": {
     "cellMetadata": {
      "byteLimit": 2048000,
      "rowLimit": 10000
     },
     "inputWidgets": {},
     "nuid": "47079f85-c260-4495-8af2-fe7c1101ae38",
     "showTitle": false,
     "tableResultSettingsMap": {},
     "title": ""
    }
   },
   "outputs": [
    {
     "output_type": "stream",
     "name": "stdout",
     "output_type": "stream",
     "text": [
      "+---------+----+--------+------+\n|Sales_man| Age| Company| Sales|\n+---------+----+--------+------+\n|    Randi|  25|  myntra| 10000|\n|      Bob|  30|  myntra|  null|\n|     Andi|  35|  myntra| 30000|\n|    David|null|  Amazon| 40000|\n|     null|  22|  Amazon|  null|\n|    rajat|  40|  Amazon|100000|\n|      Bob|null|FLipkart|  5000|\n+---------+----+--------+------+\n\n"
     ]
    }
   ],
   "source": [
    "df = spark.sql(\"SELECT * FROM sales_data\")\n",
    "df.show()"
   ]
  },
  {
   "cell_type": "code",
   "execution_count": 0,
   "metadata": {
    "application/vnd.databricks.v1+cell": {
     "cellMetadata": {
      "byteLimit": 2048000,
      "rowLimit": 10000
     },
     "inputWidgets": {},
     "nuid": "250c89d1-bf2c-411b-88a3-a9b516628194",
     "showTitle": false,
     "tableResultSettingsMap": {},
     "title": ""
    }
   },
   "outputs": [
    {
     "output_type": "stream",
     "name": "stdout",
     "output_type": "stream",
     "text": [
      "+---------+---+-------+------+\n|Sales_man|Age|Company| Sales|\n+---------+---+-------+------+\n|    Randi| 25| myntra| 10000|\n|     Andi| 35| myntra| 30000|\n|    rajat| 40| Amazon|100000|\n+---------+---+-------+------+\n\n"
     ]
    }
   ],
   "source": [
    "# drop , keep , fill - these are 3 ways to handle missing values\n",
    "# DROP\n",
    "df.na.drop().show()"
   ]
  },
  {
   "cell_type": "code",
   "execution_count": 0,
   "metadata": {
    "application/vnd.databricks.v1+cell": {
     "cellMetadata": {
      "byteLimit": 2048000,
      "rowLimit": 10000
     },
     "inputWidgets": {},
     "nuid": "4895e7d5-9ee9-446d-9ef2-e1489ae88214",
     "showTitle": false,
     "tableResultSettingsMap": {},
     "title": ""
    }
   },
   "outputs": [
    {
     "output_type": "stream",
     "name": "stdout",
     "output_type": "stream",
     "text": [
      "+---------+----+--------+------+\n|Sales_man| Age| Company| Sales|\n+---------+----+--------+------+\n|    Randi|  25|  myntra| 10000|\n|      Bob|  30|  myntra|  null|\n|     Andi|  35|  myntra| 30000|\n|    David|null|  Amazon| 40000|\n|     null|  22|  Amazon|  null|\n|    rajat|  40|  Amazon|100000|\n|      Bob|null|FLipkart|  5000|\n+---------+----+--------+------+\n\n"
     ]
    }
   ],
   "source": [
    "df.na.drop(thresh=2).show()"
   ]
  },
  {
   "cell_type": "code",
   "execution_count": 0,
   "metadata": {
    "application/vnd.databricks.v1+cell": {
     "cellMetadata": {
      "byteLimit": 2048000,
      "rowLimit": 10000
     },
     "inputWidgets": {},
     "nuid": "b99ae962-33b8-40d5-917f-12d84cf8e4b3",
     "showTitle": false,
     "tableResultSettingsMap": {},
     "title": ""
    }
   },
   "outputs": [
    {
     "output_type": "stream",
     "name": "stdout",
     "output_type": "stream",
     "text": [
      "+---------+----+--------+------+\n|Sales_man| Age| Company| Sales|\n+---------+----+--------+------+\n|    Randi|  25|  myntra| 10000|\n|      Bob|  30|  myntra|  null|\n|     Andi|  35|  myntra| 30000|\n|    David|null|  Amazon| 40000|\n|     null|  22|  Amazon|  null|\n|    rajat|  40|  Amazon|100000|\n|      Bob|null|FLipkart|  5000|\n+---------+----+--------+------+\n\n"
     ]
    }
   ],
   "source": [
    "df.na.drop(how=\"all\").show()"
   ]
  },
  {
   "cell_type": "code",
   "execution_count": 0,
   "metadata": {
    "application/vnd.databricks.v1+cell": {
     "cellMetadata": {
      "byteLimit": 2048000,
      "rowLimit": 10000
     },
     "inputWidgets": {},
     "nuid": "a9626288-8201-4867-bffe-8b3db0c190b1",
     "showTitle": false,
     "tableResultSettingsMap": {},
     "title": ""
    }
   },
   "outputs": [
    {
     "output_type": "stream",
     "name": "stdout",
     "output_type": "stream",
     "text": [
      "+---------+----+--------+------+\n|Sales_man| Age| Company| Sales|\n+---------+----+--------+------+\n|    Randi|  25|  myntra| 10000|\n|     Andi|  35|  myntra| 30000|\n|    David|null|  Amazon| 40000|\n|    rajat|  40|  Amazon|100000|\n|      Bob|null|FLipkart|  5000|\n+---------+----+--------+------+\n\n"
     ]
    }
   ],
   "source": [
    "df.na.drop(subset=[\"Sales\"]).show()\n"
   ]
  },
  {
   "cell_type": "code",
   "execution_count": 0,
   "metadata": {
    "application/vnd.databricks.v1+cell": {
     "cellMetadata": {
      "byteLimit": 2048000,
      "rowLimit": 10000
     },
     "inputWidgets": {},
     "nuid": "de8e4cfc-3bf5-4948-9167-a99353b79cf9",
     "showTitle": false,
     "tableResultSettingsMap": {},
     "title": ""
    }
   },
   "outputs": [
    {
     "output_type": "stream",
     "name": "stdout",
     "output_type": "stream",
     "text": [
      "+---------+----+--------+------+\n|Sales_man| Age| Company| Sales|\n+---------+----+--------+------+\n|    Randi|  25|  myntra| 10000|\n|      Bob|  30|  myntra|  null|\n|     Andi|  35|  myntra| 30000|\n|    David|null|  Amazon| 40000|\n|    Rajat|  22|  Amazon|  null|\n|    rajat|  40|  Amazon|100000|\n|      Bob|null|FLipkart|  5000|\n+---------+----+--------+------+\n\n+---------+---+--------+------+\n|Sales_man|Age| Company| Sales|\n+---------+---+--------+------+\n|    Randi| 25|  myntra| 10000|\n|      Bob| 30|  myntra|     1|\n|     Andi| 35|  myntra| 30000|\n|    David|  1|  Amazon| 40000|\n|     null| 22|  Amazon|     1|\n|    rajat| 40|  Amazon|100000|\n|      Bob|  1|FLipkart|  5000|\n+---------+---+--------+------+\n\n"
     ]
    }
   ],
   "source": [
    "df.na.fill(\"Rajat\").show()\n",
    "df.na.fill(1).show()"
   ]
  },
  {
   "cell_type": "code",
   "execution_count": 0,
   "metadata": {
    "application/vnd.databricks.v1+cell": {
     "cellMetadata": {
      "byteLimit": 2048000,
      "rowLimit": 10000
     },
     "inputWidgets": {},
     "nuid": "f08335d6-14c5-4c20-a137-1a61dc7d9b3b",
     "showTitle": false,
     "tableResultSettingsMap": {},
     "title": ""
    }
   },
   "outputs": [
    {
     "output_type": "stream",
     "name": "stdout",
     "output_type": "stream",
     "text": [
      "+---------+----+--------+------+\n|Sales_man| Age| Company| Sales|\n+---------+----+--------+------+\n|    Randi|  25|  myntra| 10000|\n|      Bob|  30|  myntra|  null|\n|     Andi|  35|  myntra| 30000|\n|    David|null|  Amazon| 40000|\n|    Rajat|  22|  Amazon|  null|\n|    rajat|  40|  Amazon|100000|\n|      Bob|null|FLipkart|  5000|\n+---------+----+--------+------+\n\n"
     ]
    }
   ],
   "source": [
    "df.na.fill(\"Rajat\",subset=[\"Sales_man\"]).show()"
   ]
  },
  {
   "cell_type": "code",
   "execution_count": 0,
   "metadata": {
    "application/vnd.databricks.v1+cell": {
     "cellMetadata": {
      "byteLimit": 2048000,
      "rowLimit": 10000
     },
     "inputWidgets": {},
     "nuid": "9ccb7ccf-53c2-4b9a-8f59-b7d74f02f6ce",
     "showTitle": false,
     "tableResultSettingsMap": {},
     "title": ""
    }
   },
   "outputs": [
    {
     "output_type": "stream",
     "name": "stdout",
     "output_type": "stream",
     "text": [
      "Mean: 37000.0\n"
     ]
    }
   ],
   "source": [
    "from pyspark.sql.functions import mean\n",
    "mean_value = df.select(mean(df[\"Sales\"])).collect()\n",
    "print(\"Mean:\", mean_value[0][0])\n"
   ]
  },
  {
   "cell_type": "code",
   "execution_count": 0,
   "metadata": {
    "application/vnd.databricks.v1+cell": {
     "cellMetadata": {
      "byteLimit": 2048000,
      "rowLimit": 10000
     },
     "inputWidgets": {},
     "nuid": "a1e579b6-54e0-4c6a-b26c-c70a3ca91be1",
     "showTitle": false,
     "tableResultSettingsMap": {},
     "title": ""
    }
   },
   "outputs": [
    {
     "output_type": "stream",
     "name": "stdout",
     "output_type": "stream",
     "text": [
      "+---------+----+--------+------+\n|Sales_man| Age| Company| Sales|\n+---------+----+--------+------+\n|    Randi|  25|  myntra| 10000|\n|      Bob|  30|  myntra| 37000|\n|     Andi|  35|  myntra| 30000|\n|    David|null|  Amazon| 40000|\n|     null|  22|  Amazon| 37000|\n|    rajat|  40|  Amazon|100000|\n|      Bob|null|FLipkart|  5000|\n+---------+----+--------+------+\n\n"
     ]
    }
   ],
   "source": [
    "mean_sales = mean_value[0][0]\n",
    "df.na.fill(mean_sales,['Sales']).show()"
   ]
  },
  {
   "cell_type": "code",
   "execution_count": 0,
   "metadata": {
    "application/vnd.databricks.v1+cell": {
     "cellMetadata": {},
     "inputWidgets": {},
     "nuid": "36646c96-aebc-4759-8e9b-46e2edb7f743",
     "showTitle": false,
     "tableResultSettingsMap": {},
     "title": ""
    }
   },
   "outputs": [],
   "source": []
  }
 ],
 "metadata": {
  "application/vnd.databricks.v1+notebook": {
   "computePreferences": null,
   "dashboards": [],
   "environmentMetadata": {
    "base_environment": "",
    "client": "1"
   },
   "language": "python",
   "notebookMetadata": {
    "pythonIndentUnit": 4
   },
   "notebookName": "Untitled Notebook 2024-12-24 10:55:53",
   "widgets": {}
  }
 },
 "nbformat": 4,
 "nbformat_minor": 0
}
