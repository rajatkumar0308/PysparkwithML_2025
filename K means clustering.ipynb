{
 "cells": [
  {
   "cell_type": "code",
   "execution_count": 0,
   "metadata": {
    "application/vnd.databricks.v1+cell": {
     "cellMetadata": {
      "byteLimit": 2048000,
      "rowLimit": 10000
     },
     "inputWidgets": {},
     "nuid": "c1285e83-1a72-41dc-9e41-474202de197f",
     "showTitle": false,
     "tableResultSettingsMap": {},
     "title": ""
    }
   },
   "outputs": [],
   "source": [
    "#Problem Statement: Clustering Customers Based on Riskiness\n",
    "\n",
    "#A bank wants to identify risky customers to optimize its lending policies and reduce potential defaults. Using customer financial and behavioral data, the goal is #to group customers into different risk levels: Low Risk, Medium Risk, and High Risk.\n",
    "\n",
    "#Dataset Details:\n",
    "#The bank has historical data on its customers, including the following features:\n",
    "\n",
    "#Credit Score: A measure of the customer's creditworthiness.\n",
    "#Outstanding Loan Amount: The total amount of loans the customer currently owes.\n",
    "#Monthly Income: The customer’s average monthly income.\n",
    "#Loan-to-Income Ratio (LTI): The ratio of total loans to monthly income.\n",
    "#Payment History: The percentage of on-time payments made by the customer.\n",
    "#Number of Defaults: The number of times the customer has defaulted on a loan in the past.\n",
    "\n",
    "#Goal:\n",
    "#Use K-Means Clustering to classify customers into different risk categories:\n",
    "\n",
    "#Low Risk: Customers with high credit scores, low loan-to-income ratios, and good payment histories.\n",
    "#Medium Risk: Customers with moderate credit scores and loan-to-income ratios but no severe defaults.\n",
    "#High Risk: Customers with low credit scores, high loan-to-income ratios, and frequent defaults.\n",
    "\n",
    "#-----------------------------------------------------\n",
    "\n",
    "#Steps to Solve: 6 Steps\n",
    "#Data Collection:\n",
    "#Gather historical data for existing and past customers.\n",
    "#Ensure features like credit score, income, and defaults are included.\n",
    "\n",
    "#Data Preparation:\n",
    "#Handle missing values (e.g., missing payment history or income).\n",
    "#Normalize numerical features to scale them uniformly.\n",
    "\n",
    "#Feature Selection:\n",
    "#Select features like Credit Score, LTI Ratio, Payment History, and Defaults for clustering.\n",
    "\n",
    "#K-Means Clustering:\n",
    "#Use K=3 (Low Risk, Medium Risk, High Risk) to group customers.\n",
    "#Train the K-Means model to form clusters.\n",
    "\n",
    "#Interpret Results:\n",
    "#Analyze the characteristics of each cluster.\n",
    "#Label clusters based on riskiness.\n",
    "\n",
    "#Deploy Insights:\n",
    "#Flag high-risk customers for additional scrutiny.\n",
    "#Offer personalized loan policies based on cluster assignments.\n"
   ]
  },
  {
   "cell_type": "code",
   "execution_count": 0,
   "metadata": {
    "application/vnd.databricks.v1+cell": {
     "cellMetadata": {
      "byteLimit": 2048000,
      "rowLimit": 10000
     },
     "inputWidgets": {},
     "nuid": "148ff47b-e1cd-4573-bfe6-59a5a8931065",
     "showTitle": false,
     "tableResultSettingsMap": {},
     "title": ""
    }
   },
   "outputs": [
    {
     "output_type": "stream",
     "name": "stdout",
     "output_type": "stream",
     "text": [
      "+----------+-----------+---------------+-------------+--------------+-----------+\n|CustomerID|CreditScore|OutstandingLoan|MonthlyIncome|PaymentHistory|NumDefaults|\n+----------+-----------+---------------+-------------+--------------+-----------+\n|         1|        750|          10000|         5000|            98|          0|\n|         2|        680|          20000|         4500|            95|          1|\n|         3|        620|          50000|         4000|            85|          2|\n|         4|        590|          60000|         3500|            75|          3|\n|         5|        800|          15000|         6000|            99|          0|\n|         6|        720|          25000|         4800|            96|          0|\n|         7|        640|          40000|         4200|            88|          1|\n|         8|        580|          70000|         3000|            70|          4|\n|         9|        700|          30000|         4700|            94|          1|\n|        10|        670|          45000|         4400|            90|          2|\n+----------+-----------+---------------+-------------+--------------+-----------+\n\n"
     ]
    }
   ],
   "source": [
    "# Databricks notebook: Customer Risk Clustering with PySpark\n",
    "\n",
    "# Import necessary libraries\n",
    "from pyspark.sql import SparkSession\n",
    "from pyspark.ml.feature import VectorAssembler\n",
    "from pyspark.ml.clustering import KMeans\n",
    "from pyspark.sql.functions import col\n",
    "\n",
    "# Step 1: Start a Spark session\n",
    "#spark = SparkSession.builder.appName(\"CustomerRiskClustering\").getOrCreate()\n",
    "\n",
    "# Step 2: Load the CSV file into a DataFrame\n",
    "#file_path = \"/dbfs/FileStore/customer_risk_data.csv\"  # Adjust the file path if needed\n",
    "#data_df = spark.read.csv(file_path, header=True, inferSchema=True)\n",
    "\n",
    "# Display the first few rows of the DataFrame\n",
    "data_df = spark.sql(\"SELECT * FROM risk_data_r\")\n",
    "data_df.show()\n"
   ]
  },
  {
   "cell_type": "code",
   "execution_count": 0,
   "metadata": {
    "application/vnd.databricks.v1+cell": {
     "cellMetadata": {
      "byteLimit": 2048000,
      "rowLimit": 10000
     },
     "inputWidgets": {},
     "nuid": "ce1d838c-d130-4a8f-929a-dbfb0f520a5c",
     "showTitle": false,
     "tableResultSettingsMap": {},
     "title": ""
    }
   },
   "outputs": [],
   "source": [
    "\n",
    "# Step 3: Prepare the data for clustering\n",
    "# Select relevant features and cast them to double type for compatibility\n",
    "feature_columns = [\"CreditScore\", \"OutstandingLoan\", \"MonthlyIncome\", \"PaymentHistory\", \"NumDefaults\"]\n",
    "\n",
    "data_df = data_df.select(\n",
    "    *[col(c).cast(\"double\").alias(c) for c in feature_columns]\n",
    ")\n",
    "#data_df: This is a DataFrame object in PySpark.\n",
    "#select: This method is used to select specific columns or transform them in a DataFrame.\n",
    "#col(c): The col function is used to reference a column c by its name in the DataFrame. c represents a string containing the column name.\n",
    "#cast(\"double\"): This method is used to cast the column c to the \"double\" data type (a type for floating-point numbers).\n",
    "#alias(c): This is used to rename the column. In this case, it keeps the column name as c after casting.\n",
    "#feature_columns: This is expected to be a list of column names you want to apply the transformation to. For example: ['column1', 'column2', 'column3'].\n",
    "#If feature_columns = ['age', 'height', 'weight'], and the original DataFrame has these columns with other data types (e.g., strings or integers), the new DataFrame will contain the same columns but converted to the double data type.\n",
    "# Combine features into a single vector column\n",
    "\n",
    "assembler = VectorAssembler(inputCols=feature_columns, outputCol=\"features\")\n",
    "data_prepared = assembler.transform(data_df)\n"
   ]
  },
  {
   "cell_type": "code",
   "execution_count": 0,
   "metadata": {
    "application/vnd.databricks.v1+cell": {
     "cellMetadata": {
      "byteLimit": 2048000,
      "rowLimit": 10000
     },
     "inputWidgets": {},
     "nuid": "7701896f-1923-4da3-937b-f9fd1bf2040f",
     "showTitle": false,
     "tableResultSettingsMap": {},
     "title": ""
    }
   },
   "outputs": [
    {
     "output_type": "stream",
     "name": "stdout",
     "output_type": "stream",
     "text": [
      "Cluster Centers:\nCluster 0: [7.30e+02 2.00e+04 5.00e+03 9.64e+01 4.00e-01]\nCluster 1: [5.85e+02 6.50e+04 3.25e+03 7.25e+01 3.50e+00]\nCluster 2: [6.43333333e+02 4.50000000e+04 4.20000000e+03 8.76666667e+01\n 1.66666667e+00]\n"
     ]
    }
   ],
   "source": [
    "\n",
    "# Step 4: Apply K-Means Clustering\n",
    "# Initialize the K-Means model with 3 clusters (Low, Medium, High Risk)\n",
    "kmeans = KMeans(featuresCol=\"features\", predictionCol=\"risk_cluster\", k=3, seed=42)\n",
    "\n",
    "# Train the model\n",
    "kmeans_model = kmeans.fit(data_prepared)\n",
    "\n",
    "# Get cluster centers (useful for understanding the clusters)\n",
    "cluster_centers = kmeans_model.clusterCenters()    # This method returns the coordinates of the centroids of the clusters after the KMeans algorithm has been trained. The centroids represent the center of each cluster in the feature space.\n",
    "print(\"Cluster Centers:\")\n",
    "for i, center in enumerate(cluster_centers): # for i, center in enumerate(cluster_centers):: This loop iterates over each cluster center, with i being the cluster index and center being the coordinates of that cluster's centroid.\n",
    "    print(f\"Cluster {i}: {center}\")\n"
   ]
  },
  {
   "cell_type": "markdown",
   "metadata": {
    "application/vnd.databricks.v1+cell": {
     "cellMetadata": {},
     "inputWidgets": {},
     "nuid": "fafb845b-701f-4ff4-b1e5-1a65900ad6fa",
     "showTitle": false,
     "tableResultSettingsMap": {},
     "title": ""
    }
   },
   "source": [
    "#Cluster 0: Centroid coordinates are [730, 20000, 5000, 96.4, 0.4] for its features.\n",
    "#Cluster 1: Centroid coordinates are [585, 65000, 3250, 72.5, 3.5].\n",
    "#Cluster 2: Centroid coordinates are [643.33, 45000, 4200, 87.77, 1.67].\n",
    "#Each centroid represents the \"average\" characteristics of the data points within that cluster. The KMeans algorithm clusters data points based on their similarity, with points in each cluster being close to the corresponding centroid."
   ]
  },
  {
   "cell_type": "code",
   "execution_count": 0,
   "metadata": {
    "application/vnd.databricks.v1+cell": {
     "cellMetadata": {
      "byteLimit": 2048000,
      "rowLimit": 10000
     },
     "inputWidgets": {},
     "nuid": "dc52bbcc-63e7-4fd8-8da2-6e5c3a8acf61",
     "showTitle": false,
     "tableResultSettingsMap": {},
     "title": ""
    }
   },
   "outputs": [
    {
     "output_type": "stream",
     "name": "stdout",
     "output_type": "stream",
     "text": [
      "+-----------+---------------+-------------+--------------+-----------+------------+\n|CreditScore|OutstandingLoan|MonthlyIncome|PaymentHistory|NumDefaults|risk_cluster|\n+-----------+---------------+-------------+--------------+-----------+------------+\n|      750.0|        10000.0|       5000.0|          98.0|        0.0|           0|\n|      680.0|        20000.0|       4500.0|          95.0|        1.0|           0|\n|      620.0|        50000.0|       4000.0|          85.0|        2.0|           2|\n|      590.0|        60000.0|       3500.0|          75.0|        3.0|           1|\n|      800.0|        15000.0|       6000.0|          99.0|        0.0|           0|\n|      720.0|        25000.0|       4800.0|          96.0|        0.0|           0|\n|      640.0|        40000.0|       4200.0|          88.0|        1.0|           2|\n|      580.0|        70000.0|       3000.0|          70.0|        4.0|           1|\n|      700.0|        30000.0|       4700.0|          94.0|        1.0|           0|\n|      670.0|        45000.0|       4400.0|          90.0|        2.0|           2|\n+-----------+---------------+-------------+--------------+-----------+------------+\n\n"
     ]
    }
   ],
   "source": [
    "\n",
    "# Step 5: Predict clusters for customers\n",
    "predictions = kmeans_model.transform(data_prepared)\n",
    "\n",
    "# Display the predictions with original features\n",
    "predictions.select(*feature_columns, \"risk_cluster\").show()\n"
   ]
  },
  {
   "cell_type": "code",
   "execution_count": 0,
   "metadata": {
    "application/vnd.databricks.v1+cell": {
     "cellMetadata": {},
     "inputWidgets": {},
     "nuid": "d855ceeb-1a0b-427b-a724-32ceb0f55a52",
     "showTitle": false,
     "tableResultSettingsMap": {},
     "title": ""
    }
   },
   "outputs": [],
   "source": [
    "#risk_cluster: The cluster label assigned by the KMeans algorithm, indicating the risk group the individual belongs to:\n",
    "#Cluster 0: Likely low-risk individuals.\n",
    "#Cluster 1: Likely medium-risk individuals.\n",
    "#Cluster 2: Likely high-risk individuals."
   ]
  },
  {
   "cell_type": "code",
   "execution_count": 0,
   "metadata": {
    "application/vnd.databricks.v1+cell": {
     "cellMetadata": {
      "byteLimit": 2048000,
      "rowLimit": 10000
     },
     "inputWidgets": {},
     "nuid": "f8b50e93-4fa7-44a6-ae59-39c3a13ff54d",
     "showTitle": false,
     "tableResultSettingsMap": {},
     "title": ""
    }
   },
   "outputs": [
    {
     "output_type": "stream",
     "name": "stdout",
     "output_type": "stream",
     "text": [
      "Results saved to: /dbfs/FileStore/customer_risk_clusters.csv\n"
     ]
    }
   ],
   "source": [
    "\n",
    "# Step 6: Save the results\n",
    "output_path = \"/dbfs/FileStore/customer_risk_clusters.csv\"  # Adjust the path if needed\n",
    "predictions.select(\"CreditScore\", \"OutstandingLoan\", \"MonthlyIncome\", \"PaymentHistory\", \"NumDefaults\", \"risk_cluster\")\\\n",
    "    .write.csv(output_path, header=True)\n",
    "\n",
    "print(f\"Results saved to: {output_path}\")\n"
   ]
  },
  {
   "cell_type": "code",
   "execution_count": 0,
   "metadata": {
    "application/vnd.databricks.v1+cell": {
     "cellMetadata": {},
     "inputWidgets": {},
     "nuid": "2835ab60-0ba6-4e1a-b5f1-688200c911b6",
     "showTitle": false,
     "tableResultSettingsMap": {},
     "title": ""
    }
   },
   "outputs": [],
   "source": []
  },
  {
   "cell_type": "code",
   "execution_count": 0,
   "metadata": {
    "application/vnd.databricks.v1+cell": {
     "cellMetadata": {},
     "inputWidgets": {},
     "nuid": "fb888e51-f771-47f6-8647-c51aae5595a4",
     "showTitle": false,
     "tableResultSettingsMap": {},
     "title": ""
    }
   },
   "outputs": [],
   "source": []
  }
 ],
 "metadata": {
  "application/vnd.databricks.v1+notebook": {
   "computePreferences": null,
   "dashboards": [],
   "environmentMetadata": {
    "base_environment": "",
    "client": "1"
   },
   "language": "python",
   "notebookMetadata": {
    "pythonIndentUnit": 4
   },
   "notebookName": "K means clustering",
   "widgets": {}
  }
 },
 "nbformat": 4,
 "nbformat_minor": 0
}
