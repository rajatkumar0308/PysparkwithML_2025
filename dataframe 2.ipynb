{
 "cells": [
  {
   "cell_type": "code",
   "execution_count": 0,
   "metadata": {
    "application/vnd.databricks.v1+cell": {
     "cellMetadata": {
      "byteLimit": 2048000,
      "rowLimit": 10000
     },
     "inputWidgets": {},
     "nuid": "a61a65c8-9790-4d74-9dfb-5f8456430d8b",
     "showTitle": false,
     "tableResultSettingsMap": {},
     "title": ""
    }
   },
   "outputs": [],
   "source": [
    "import pyspark"
   ]
  },
  {
   "cell_type": "code",
   "execution_count": 0,
   "metadata": {
    "application/vnd.databricks.v1+cell": {
     "cellMetadata": {
      "byteLimit": 2048000,
      "rowLimit": 10000
     },
     "inputWidgets": {},
     "nuid": "877ca4b1-596f-4c15-ac69-c62991951927",
     "showTitle": false,
     "tableResultSettingsMap": {},
     "title": ""
    }
   },
   "outputs": [
    {
     "output_type": "stream",
     "name": "stdout",
     "output_type": "stream",
     "text": [
      "+-------+---+-----------+----------+\n|   Name|Age|       City|Occupation|\n+-------+---+-----------+----------+\n|  Alice| 25|   New York|  Engineer|\n|    Bob| 30|Los Angeles|    Doctor|\n|Charlie| 35|    Chicago|    Artist|\n|  David| 40|    Houston|    Lawyer|\n|    Eva| 22|    Phoenix| Scientist|\n|  rajat| 40|        NYC|   teacher|\n+-------+---+-----------+----------+\n\n"
     ]
    }
   ],
   "source": [
    "df = spark.sql(\"SELECT * FROM data_6\")\n",
    "df.show()"
   ]
  },
  {
   "cell_type": "code",
   "execution_count": 0,
   "metadata": {
    "application/vnd.databricks.v1+cell": {
     "cellMetadata": {
      "byteLimit": 2048000,
      "rowLimit": 10000
     },
     "inputWidgets": {},
     "nuid": "86fc0870-48cd-4956-af46-a388c70f3339",
     "showTitle": false,
     "tableResultSettingsMap": {},
     "title": ""
    }
   },
   "outputs": [
    {
     "output_type": "stream",
     "name": "stdout",
     "output_type": "stream",
     "text": [
      "Out[5]: pyspark.sql.column.Column"
     ]
    }
   ],
   "source": [
    "type(df['Age'])\n"
   ]
  },
  {
   "cell_type": "code",
   "execution_count": 0,
   "metadata": {
    "application/vnd.databricks.v1+cell": {
     "cellMetadata": {
      "byteLimit": 2048000,
      "rowLimit": 10000
     },
     "inputWidgets": {},
     "nuid": "298fc992-efd5-4f01-821d-185da3a83b9a",
     "showTitle": false,
     "tableResultSettingsMap": {},
     "title": ""
    }
   },
   "outputs": [
    {
     "output_type": "stream",
     "name": "stdout",
     "output_type": "stream",
     "text": [
      "+---+\n|Age|\n+---+\n| 25|\n| 30|\n| 35|\n| 40|\n| 22|\n| 40|\n+---+\n\nOut[9]: NoneType"
     ]
    }
   ],
   "source": [
    "type(df.select(\"Age\").show())"
   ]
  },
  {
   "cell_type": "code",
   "execution_count": 0,
   "metadata": {
    "application/vnd.databricks.v1+cell": {
     "cellMetadata": {
      "byteLimit": 2048000,
      "rowLimit": 10000
     },
     "inputWidgets": {},
     "nuid": "7063ef54-e223-4c5b-a8b1-0c5e9bbbd8d1",
     "showTitle": false,
     "tableResultSettingsMap": {},
     "title": ""
    }
   },
   "outputs": [
    {
     "output_type": "stream",
     "name": "stdout",
     "output_type": "stream",
     "text": [
      "Out[10]: [Row(Name='Alice', Age=25, City='New York', Occupation='Engineer'),\n Row(Name='Bob', Age=30, City='Los Angeles', Occupation='Doctor')]"
     ]
    }
   ],
   "source": [
    "df.head(2)"
   ]
  },
  {
   "cell_type": "code",
   "execution_count": 0,
   "metadata": {
    "application/vnd.databricks.v1+cell": {
     "cellMetadata": {
      "byteLimit": 2048000,
      "rowLimit": 10000
     },
     "inputWidgets": {},
     "nuid": "ffcc296d-9356-4d47-94ce-4dc8d92d394a",
     "showTitle": false,
     "tableResultSettingsMap": {},
     "title": ""
    }
   },
   "outputs": [
    {
     "output_type": "stream",
     "name": "stdout",
     "output_type": "stream",
     "text": [
      "Out[14]: pyspark.sql.types.Row"
     ]
    }
   ],
   "source": [
    "type(df.head(3)[1])"
   ]
  },
  {
   "cell_type": "code",
   "execution_count": 0,
   "metadata": {
    "application/vnd.databricks.v1+cell": {
     "cellMetadata": {
      "byteLimit": 2048000,
      "rowLimit": 10000
     },
     "inputWidgets": {},
     "nuid": "bebb6481-5fee-47d7-ad3b-a993c220ed07",
     "showTitle": false,
     "tableResultSettingsMap": {},
     "title": ""
    }
   },
   "outputs": [
    {
     "output_type": "stream",
     "name": "stdout",
     "output_type": "stream",
     "text": [
      "+---+-------+\n|Age|   Name|\n+---+-------+\n| 25|  Alice|\n| 30|    Bob|\n| 35|Charlie|\n| 40|  David|\n| 22|    Eva|\n| 40|  rajat|\n+---+-------+\n\n"
     ]
    }
   ],
   "source": [
    "df.select([\"Age\",\"Name\"]).show()"
   ]
  },
  {
   "cell_type": "code",
   "execution_count": 0,
   "metadata": {
    "application/vnd.databricks.v1+cell": {
     "cellMetadata": {
      "byteLimit": 2048000,
      "rowLimit": 10000
     },
     "inputWidgets": {},
     "nuid": "122f08a1-0f74-4db1-8e11-2ce3ed4727e2",
     "showTitle": false,
     "tableResultSettingsMap": {},
     "title": ""
    }
   },
   "outputs": [
    {
     "output_type": "stream",
     "name": "stdout",
     "output_type": "stream",
     "text": [
      "+-------+---+-----------+----------+------------------+\n|   Name|Age|       City|Occupation|          New_name|\n+-------+---+-----------+----------+------------------+\n|  Alice| 25|   New York|  Engineer|             64.45|\n|    Bob| 30|Los Angeles|    Doctor| 77.33999999999999|\n|Charlie| 35|    Chicago|    Artist| 90.22999999999999|\n|  David| 40|    Houston|    Lawyer|103.11999999999999|\n|    Eva| 22|    Phoenix| Scientist|56.715999999999994|\n|  rajat| 40|        NYC|   teacher|103.11999999999999|\n+-------+---+-----------+----------+------------------+\n\n"
     ]
    }
   ],
   "source": [
    "df.withColumn(\"New_name\",df['Age']*2.578).show()"
   ]
  },
  {
   "cell_type": "code",
   "execution_count": 0,
   "metadata": {
    "application/vnd.databricks.v1+cell": {
     "cellMetadata": {
      "byteLimit": 2048000,
      "rowLimit": 10000
     },
     "inputWidgets": {},
     "nuid": "110e0c07-188e-4298-85a7-82549faa64f3",
     "showTitle": false,
     "tableResultSettingsMap": {},
     "title": ""
    }
   },
   "outputs": [
    {
     "output_type": "stream",
     "name": "stdout",
     "output_type": "stream",
     "text": [
      "+-------+---+-----------+----------+\n|   Name|Age|       City|Occupation|\n+-------+---+-----------+----------+\n|  Alice| 25|   New York|  Engineer|\n|    Bob| 30|Los Angeles|    Doctor|\n|Charlie| 35|    Chicago|    Artist|\n|  David| 40|    Houston|    Lawyer|\n|    Eva| 22|    Phoenix| Scientist|\n|  rajat| 40|        NYC|   teacher|\n+-------+---+-----------+----------+\n\n"
     ]
    }
   ],
   "source": [
    "df.show()"
   ]
  },
  {
   "cell_type": "code",
   "execution_count": 0,
   "metadata": {
    "application/vnd.databricks.v1+cell": {
     "cellMetadata": {
      "byteLimit": 2048000,
      "rowLimit": 10000
     },
     "inputWidgets": {},
     "nuid": "56975af3-29d1-4afd-8857-d8a67f6a5903",
     "showTitle": false,
     "tableResultSettingsMap": {},
     "title": ""
    }
   },
   "outputs": [
    {
     "output_type": "stream",
     "name": "stdout",
     "output_type": "stream",
     "text": [
      "+-------+----------+-----------+----------+\n|   Name|Latest_age|       City|Occupation|\n+-------+----------+-----------+----------+\n|  Alice|        25|   New York|  Engineer|\n|    Bob|        30|Los Angeles|    Doctor|\n|Charlie|        35|    Chicago|    Artist|\n|  David|        40|    Houston|    Lawyer|\n|    Eva|        22|    Phoenix| Scientist|\n|  rajat|        40|        NYC|   teacher|\n+-------+----------+-----------+----------+\n\n"
     ]
    }
   ],
   "source": [
    "df.withColumnRenamed(\"Age\",\"Latest_age\").show()"
   ]
  },
  {
   "cell_type": "code",
   "execution_count": 0,
   "metadata": {
    "application/vnd.databricks.v1+cell": {
     "cellMetadata": {
      "byteLimit": 2048000,
      "rowLimit": 10000
     },
     "inputWidgets": {},
     "nuid": "7ded95e6-5a5f-488a-872e-03f9ca2b3b81",
     "showTitle": false,
     "tableResultSettingsMap": {},
     "title": ""
    }
   },
   "outputs": [
    {
     "output_type": "stream",
     "name": "stdout",
     "output_type": "stream",
     "text": [
      "+-------+---+-----------+----------+\n|   Name|Age|       City|Occupation|\n+-------+---+-----------+----------+\n|  Alice| 25|   New York|  Engineer|\n|    Bob| 30|Los Angeles|    Doctor|\n|Charlie| 35|    Chicago|    Artist|\n|  David| 40|    Houston|    Lawyer|\n|    Eva| 22|    Phoenix| Scientist|\n|  rajat| 40|        NYC|   teacher|\n+-------+---+-----------+----------+\n\n"
     ]
    }
   ],
   "source": [
    "df.createOrReplaceTempView('date_6')\n",
    "result_r = spark.sql(\"SELECT * FROM data_6\")\n",
    "result_r.show()\n"
   ]
  },
  {
   "cell_type": "code",
   "execution_count": 0,
   "metadata": {
    "application/vnd.databricks.v1+cell": {
     "cellMetadata": {
      "byteLimit": 2048000,
      "rowLimit": 10000
     },
     "inputWidgets": {},
     "nuid": "e95cd285-10c7-4c46-9318-ff6989d8f49b",
     "showTitle": false,
     "tableResultSettingsMap": {},
     "title": ""
    }
   },
   "outputs": [
    {
     "output_type": "stream",
     "name": "stdout",
     "output_type": "stream",
     "text": [
      "+-------+---+-------+----------+\n|   Name|Age|   City|Occupation|\n+-------+---+-------+----------+\n|Charlie| 35|Chicago|    Artist|\n|  David| 40|Houston|    Lawyer|\n|  rajat| 40|    NYC|   teacher|\n+-------+---+-------+----------+\n\n"
     ]
    }
   ],
   "source": [
    "result_r1 = spark.sql(\"SELECT * FROM data_6 WHERE Age >= 35\")\n",
    "result_r1.show()"
   ]
  },
  {
   "cell_type": "code",
   "execution_count": 0,
   "metadata": {
    "application/vnd.databricks.v1+cell": {
     "cellMetadata": {},
     "inputWidgets": {},
     "nuid": "6a3036c7-e5b5-475e-9fda-052c3936d06e",
     "showTitle": false,
     "tableResultSettingsMap": {},
     "title": ""
    }
   },
   "outputs": [],
   "source": []
  }
 ],
 "metadata": {
  "application/vnd.databricks.v1+notebook": {
   "computePreferences": null,
   "dashboards": [],
   "environmentMetadata": {
    "base_environment": "",
    "client": "1"
   },
   "language": "python",
   "notebookMetadata": {
    "pythonIndentUnit": 4
   },
   "notebookName": "Untitled Notebook 2024-12-23 19:54:37",
   "widgets": {}
  }
 },
 "nbformat": 4,
 "nbformat_minor": 0
}
