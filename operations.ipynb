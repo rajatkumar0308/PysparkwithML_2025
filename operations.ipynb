{
 "cells": [
  {
   "cell_type": "code",
   "execution_count": 0,
   "metadata": {
    "application/vnd.databricks.v1+cell": {
     "cellMetadata": {
      "byteLimit": 2048000,
      "rowLimit": 10000
     },
     "inputWidgets": {},
     "nuid": "d6a19246-a60b-40ac-b3c3-d2c3d6b2bd2c",
     "showTitle": false,
     "tableResultSettingsMap": {},
     "title": ""
    }
   },
   "outputs": [],
   "source": [
    "import pyspark"
   ]
  },
  {
   "cell_type": "code",
   "execution_count": 0,
   "metadata": {
    "application/vnd.databricks.v1+cell": {
     "cellMetadata": {
      "byteLimit": 2048000,
      "rowLimit": 10000
     },
     "inputWidgets": {},
     "nuid": "cd45fcb6-69a6-4293-9e2f-70b4542c4819",
     "showTitle": false,
     "tableResultSettingsMap": {},
     "title": ""
    }
   },
   "outputs": [],
   "source": [
    "df = spark.sql(\"SELECT * FROM customer\")"
   ]
  },
  {
   "cell_type": "code",
   "execution_count": 0,
   "metadata": {
    "application/vnd.databricks.v1+cell": {
     "cellMetadata": {
      "byteLimit": 2048000,
      "rowLimit": 10000
     },
     "inputWidgets": {},
     "nuid": "804f5b2b-254f-4e54-adcc-76025d064d92",
     "showTitle": false,
     "tableResultSettingsMap": {},
     "title": ""
    }
   },
   "outputs": [
    {
     "output_type": "stream",
     "name": "stdout",
     "output_type": "stream",
     "text": [
      "+-------+---+-----------+----------+------+\n|   Name|Age|       City|Occupation|Salary|\n+-------+---+-----------+----------+------+\n|  Alice| 25|   New York|  Engineer| 10000|\n|    Bob| 30|Los Angeles|    Doctor| 20000|\n|Charlie| 35|    Chicago|    Artist| 30000|\n|  David| 40|    Houston|    Lawyer| 40000|\n|    Eva| 22|    Phoenix| Scientist| 50000|\n|  rajat| 40|        NYC|   teacher|100000|\n+-------+---+-----------+----------+------+\n\n"
     ]
    }
   ],
   "source": [
    "df.show()"
   ]
  },
  {
   "cell_type": "code",
   "execution_count": 0,
   "metadata": {
    "application/vnd.databricks.v1+cell": {
     "cellMetadata": {
      "byteLimit": 2048000,
      "rowLimit": 10000
     },
     "inputWidgets": {},
     "nuid": "b436069d-9506-4413-a42a-9d6ada4a4e50",
     "showTitle": false,
     "tableResultSettingsMap": {},
     "title": ""
    }
   },
   "outputs": [
    {
     "output_type": "stream",
     "name": "stdout",
     "output_type": "stream",
     "text": [
      "+-----+---+-------+----------+------+\n| Name|Age|   City|Occupation|Salary|\n+-----+---+-------+----------+------+\n|David| 40|Houston|    Lawyer| 40000|\n|  Eva| 22|Phoenix| Scientist| 50000|\n|rajat| 40|    NYC|   teacher|100000|\n+-----+---+-------+----------+------+\n\n"
     ]
    }
   ],
   "source": [
    "df.filter('Salary>35000').show()"
   ]
  },
  {
   "cell_type": "code",
   "execution_count": 0,
   "metadata": {
    "application/vnd.databricks.v1+cell": {
     "cellMetadata": {
      "byteLimit": 2048000,
      "rowLimit": 10000
     },
     "inputWidgets": {},
     "nuid": "7c1e815a-6a58-4149-bf9e-f0d52e52541f",
     "showTitle": false,
     "tableResultSettingsMap": {},
     "title": ""
    }
   },
   "outputs": [
    {
     "output_type": "stream",
     "name": "stdout",
     "output_type": "stream",
     "text": [
      "+-----+----------+\n| Name|Occupation|\n+-----+----------+\n|David|    Lawyer|\n|  Eva| Scientist|\n|rajat|   teacher|\n+-----+----------+\n\n"
     ]
    }
   ],
   "source": [
    "df.filter('Salary>35000').select(['Name','Occupation']).show()"
   ]
  },
  {
   "cell_type": "code",
   "execution_count": 0,
   "metadata": {
    "application/vnd.databricks.v1+cell": {
     "cellMetadata": {
      "byteLimit": 2048000,
      "rowLimit": 10000
     },
     "inputWidgets": {},
     "nuid": "f646759f-94cc-4c2b-9b49-256e3f702a6f",
     "showTitle": false,
     "tableResultSettingsMap": {},
     "title": ""
    }
   },
   "outputs": [
    {
     "output_type": "stream",
     "name": "stdout",
     "output_type": "stream",
     "text": [
      "+-------+---+-------+----------+------+\n|   Name|Age|   City|Occupation|Salary|\n+-------+---+-------+----------+------+\n|Charlie| 35|Chicago|    Artist| 30000|\n|  David| 40|Houston|    Lawyer| 40000|\n|  rajat| 40|    NYC|   teacher|100000|\n+-------+---+-------+----------+------+\n\n"
     ]
    }
   ],
   "source": [
    "df.filter((df[\"age\"]>=35) & (df[\"salary\"]>=30000)).show()"
   ]
  },
  {
   "cell_type": "code",
   "execution_count": 0,
   "metadata": {
    "application/vnd.databricks.v1+cell": {
     "cellMetadata": {
      "byteLimit": 2048000,
      "rowLimit": 10000
     },
     "inputWidgets": {},
     "nuid": "1e022a93-09ce-4593-8de3-b9e9656e7688",
     "showTitle": false,
     "tableResultSettingsMap": {},
     "title": ""
    }
   },
   "outputs": [
    {
     "output_type": "stream",
     "name": "stdout",
     "output_type": "stream",
     "text": [
      "+-----+---+-------+----------+------+\n| Name|Age|   City|Occupation|Salary|\n+-----+---+-------+----------+------+\n|David| 40|Houston|    Lawyer| 40000|\n+-----+---+-------+----------+------+\n\n"
     ]
    }
   ],
   "source": [
    "df.filter(df[\"Salary\"] == 40000).show()"
   ]
  },
  {
   "cell_type": "code",
   "execution_count": 0,
   "metadata": {
    "application/vnd.databricks.v1+cell": {
     "cellMetadata": {
      "byteLimit": 2048000,
      "rowLimit": 10000
     },
     "inputWidgets": {},
     "nuid": "5d35bc82-75d9-4003-a46d-b7bde599325c",
     "showTitle": false,
     "tableResultSettingsMap": {},
     "title": ""
    }
   },
   "outputs": [
    {
     "output_type": "stream",
     "name": "stdout",
     "output_type": "stream",
     "text": [
      "Out[16]: [Row(Name='David', Age=40, City='Houston', Occupation='Lawyer', Salary=40000)]"
     ]
    }
   ],
   "source": [
    "df.filter(df[\"Salary\"] == 40000).collect()"
   ]
  },
  {
   "cell_type": "code",
   "execution_count": 0,
   "metadata": {
    "application/vnd.databricks.v1+cell": {
     "cellMetadata": {
      "byteLimit": 2048000,
      "rowLimit": 10000
     },
     "inputWidgets": {},
     "nuid": "ddd08f97-b77b-4630-9f4a-d3ddc3f2f2c8",
     "showTitle": false,
     "tableResultSettingsMap": {},
     "title": ""
    }
   },
   "outputs": [],
   "source": [
    "result = df.filter(df[\"Salary\"] == 40000).collect()\n",
    "row = result[0]"
   ]
  },
  {
   "cell_type": "code",
   "execution_count": 0,
   "metadata": {
    "application/vnd.databricks.v1+cell": {
     "cellMetadata": {},
     "inputWidgets": {},
     "nuid": "0d3ea3e0-f451-4f60-b532-9d19416a4d48",
     "showTitle": false,
     "tableResultSettingsMap": {},
     "title": ""
    }
   },
   "outputs": [],
   "source": []
  }
 ],
 "metadata": {
  "application/vnd.databricks.v1+notebook": {
   "computePreferences": null,
   "dashboards": [],
   "environmentMetadata": {
    "base_environment": "",
    "client": "1"
   },
   "language": "python",
   "notebookMetadata": {
    "pythonIndentUnit": 4
   },
   "notebookName": "Untitled Notebook 2024-12-23 20:36:09",
   "widgets": {}
  }
 },
 "nbformat": 4,
 "nbformat_minor": 0
}
